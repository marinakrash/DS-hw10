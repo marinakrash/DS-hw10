{
  "nbformat": 4,
  "nbformat_minor": 0,
  "metadata": {
    "colab": {
      "provenance": [],
      "gpuType": "T4"
    },
    "kernelspec": {
      "name": "python3",
      "display_name": "Python 3"
    },
    "language_info": {
      "name": "python"
    },
    "accelerator": "GPU"
  },
  "cells": [
    {
      "cell_type": "code",
      "source": [
        "import numpy as np\n",
        "import cv2\n",
        "import tensorflow as tf\n",
        "from tensorflow import keras\n",
        "from keras import layers\n",
        "from keras import models\n",
        "from keras.models import Sequential\n",
        "from keras.layers import Conv2D, MaxPooling2D, Flatten, Dense, Dropout\n",
        "from keras.preprocessing.image import ImageDataGenerator\n",
        "from keras.applications.vgg16 import VGG16\n",
        "\n",
        "(x_train, y_train), (x_test, y_test) = keras.datasets.fashion_mnist.load_data()\n",
        "\n",
        "x_train_resized = np.array([cv2.cvtColor(cv2.resize(img, (48, 48)), cv2.COLOR_GRAY2RGB) for img in x_train])\n",
        "x_train_resized = x_train_resized.astype(\"float32\") / 255\n",
        "x_test_resized = np.array([cv2.cvtColor(cv2.resize(img, (48, 48)), cv2.COLOR_GRAY2RGB) for img in x_test])\n",
        "x_test_resized = x_test_resized.astype(\"float32\") / 255\n",
        "\n",
        "conv_base = VGG16(weights=\"imagenet\", include_top=False, input_shape=(48, 48, 3))\n",
        "conv_base.trainable = True\n",
        "set_trainable = False\n",
        "for layer in conv_base.layers:\n",
        "    if layer.name == \"block5_conv1\":\n",
        "        set_trainable = True\n",
        "    if set_trainable:\n",
        "        layer.trainable = True\n",
        "    else:\n",
        "        layer.trainable = False\n",
        "\n",
        "model = Sequential([\n",
        "   conv_base,\n",
        "   Flatten(),\n",
        "   Dropout(0.2),\n",
        "   Dense(256, activation=\"relu\"),\n",
        "   Dropout(0.3),\n",
        "   Dense(10, activation=\"softmax\")\n",
        "])\n",
        "\n",
        "model.compile(loss=\"sparse_categorical_crossentropy\", optimizer=tf.keras.optimizers.RMSprop(learning_rate=1e-5),\n",
        "              metrics=['accuracy'])\n",
        "\n",
        "history = model.fit(x_train_resized, y_train, epochs=50, validation_split=0.2, batch_size=64)"
      ],
      "metadata": {
        "colab": {
          "base_uri": "https://localhost:8080/"
        },
        "id": "_inesLti_FMK",
        "outputId": "148ff363-5977-49b5-ab21-3aa929f4da1f"
      },
      "execution_count": 3,
      "outputs": [
        {
          "output_type": "stream",
          "name": "stdout",
          "text": [
            "Epoch 1/50\n",
            "750/750 [==============================] - 25s 31ms/step - loss: 0.7105 - accuracy: 0.7580 - val_loss: 0.3757 - val_accuracy: 0.8651\n",
            "Epoch 2/50\n",
            "750/750 [==============================] - 24s 32ms/step - loss: 0.3874 - accuracy: 0.8647 - val_loss: 0.3291 - val_accuracy: 0.8795\n",
            "Epoch 3/50\n",
            "750/750 [==============================] - 25s 33ms/step - loss: 0.3358 - accuracy: 0.8820 - val_loss: 0.2947 - val_accuracy: 0.8942\n",
            "Epoch 4/50\n",
            "750/750 [==============================] - 24s 32ms/step - loss: 0.3023 - accuracy: 0.8918 - val_loss: 0.2766 - val_accuracy: 0.8995\n",
            "Epoch 5/50\n",
            "750/750 [==============================] - 23s 31ms/step - loss: 0.2826 - accuracy: 0.8997 - val_loss: 0.2759 - val_accuracy: 0.8988\n",
            "Epoch 6/50\n",
            "750/750 [==============================] - 24s 31ms/step - loss: 0.2634 - accuracy: 0.9064 - val_loss: 0.2532 - val_accuracy: 0.9085\n",
            "Epoch 7/50\n",
            "750/750 [==============================] - 25s 34ms/step - loss: 0.2497 - accuracy: 0.9121 - val_loss: 0.2476 - val_accuracy: 0.9116\n",
            "Epoch 8/50\n",
            "750/750 [==============================] - 23s 30ms/step - loss: 0.2373 - accuracy: 0.9149 - val_loss: 0.2444 - val_accuracy: 0.9107\n",
            "Epoch 9/50\n",
            "750/750 [==============================] - 24s 32ms/step - loss: 0.2258 - accuracy: 0.9194 - val_loss: 0.2460 - val_accuracy: 0.9118\n",
            "Epoch 10/50\n",
            "750/750 [==============================] - 24s 32ms/step - loss: 0.2140 - accuracy: 0.9237 - val_loss: 0.2355 - val_accuracy: 0.9142\n",
            "Epoch 11/50\n",
            "750/750 [==============================] - 23s 30ms/step - loss: 0.2057 - accuracy: 0.9264 - val_loss: 0.2301 - val_accuracy: 0.9201\n",
            "Epoch 12/50\n",
            "750/750 [==============================] - 24s 32ms/step - loss: 0.1971 - accuracy: 0.9293 - val_loss: 0.2283 - val_accuracy: 0.9185\n",
            "Epoch 13/50\n",
            "750/750 [==============================] - 24s 33ms/step - loss: 0.1881 - accuracy: 0.9330 - val_loss: 0.2257 - val_accuracy: 0.9208\n",
            "Epoch 14/50\n",
            "750/750 [==============================] - 23s 30ms/step - loss: 0.1808 - accuracy: 0.9363 - val_loss: 0.2243 - val_accuracy: 0.9209\n",
            "Epoch 15/50\n",
            "750/750 [==============================] - 24s 33ms/step - loss: 0.1726 - accuracy: 0.9367 - val_loss: 0.2263 - val_accuracy: 0.9212\n",
            "Epoch 16/50\n",
            "750/750 [==============================] - 24s 33ms/step - loss: 0.1678 - accuracy: 0.9402 - val_loss: 0.2481 - val_accuracy: 0.9123\n",
            "Epoch 17/50\n",
            "750/750 [==============================] - 25s 33ms/step - loss: 0.1587 - accuracy: 0.9435 - val_loss: 0.2264 - val_accuracy: 0.9197\n",
            "Epoch 18/50\n",
            "750/750 [==============================] - 24s 33ms/step - loss: 0.1522 - accuracy: 0.9452 - val_loss: 0.2286 - val_accuracy: 0.9202\n",
            "Epoch 19/50\n",
            "750/750 [==============================] - 22s 30ms/step - loss: 0.1459 - accuracy: 0.9476 - val_loss: 0.2188 - val_accuracy: 0.9239\n",
            "Epoch 20/50\n",
            "750/750 [==============================] - 24s 32ms/step - loss: 0.1406 - accuracy: 0.9498 - val_loss: 0.2430 - val_accuracy: 0.9178\n",
            "Epoch 21/50\n",
            "750/750 [==============================] - 24s 33ms/step - loss: 0.1338 - accuracy: 0.9522 - val_loss: 0.2173 - val_accuracy: 0.9241\n",
            "Epoch 22/50\n",
            "750/750 [==============================] - 24s 33ms/step - loss: 0.1282 - accuracy: 0.9543 - val_loss: 0.2291 - val_accuracy: 0.9238\n",
            "Epoch 23/50\n",
            "750/750 [==============================] - 24s 33ms/step - loss: 0.1225 - accuracy: 0.9570 - val_loss: 0.2383 - val_accuracy: 0.9215\n",
            "Epoch 24/50\n",
            "750/750 [==============================] - 24s 33ms/step - loss: 0.1167 - accuracy: 0.9584 - val_loss: 0.2364 - val_accuracy: 0.9237\n",
            "Epoch 25/50\n",
            "750/750 [==============================] - 23s 30ms/step - loss: 0.1118 - accuracy: 0.9599 - val_loss: 0.2238 - val_accuracy: 0.9237\n",
            "Epoch 26/50\n",
            "750/750 [==============================] - 23s 30ms/step - loss: 0.1068 - accuracy: 0.9627 - val_loss: 0.2273 - val_accuracy: 0.9261\n",
            "Epoch 27/50\n",
            "750/750 [==============================] - 24s 32ms/step - loss: 0.1011 - accuracy: 0.9646 - val_loss: 0.2304 - val_accuracy: 0.9255\n",
            "Epoch 28/50\n",
            "750/750 [==============================] - 24s 32ms/step - loss: 0.0968 - accuracy: 0.9660 - val_loss: 0.2371 - val_accuracy: 0.9258\n",
            "Epoch 29/50\n",
            "750/750 [==============================] - 24s 32ms/step - loss: 0.0931 - accuracy: 0.9675 - val_loss: 0.2525 - val_accuracy: 0.9229\n",
            "Epoch 30/50\n",
            "750/750 [==============================] - 24s 33ms/step - loss: 0.0877 - accuracy: 0.9692 - val_loss: 0.2612 - val_accuracy: 0.9228\n",
            "Epoch 31/50\n",
            "750/750 [==============================] - 24s 32ms/step - loss: 0.0838 - accuracy: 0.9711 - val_loss: 0.2403 - val_accuracy: 0.9264\n",
            "Epoch 32/50\n",
            "750/750 [==============================] - 25s 33ms/step - loss: 0.0800 - accuracy: 0.9717 - val_loss: 0.2541 - val_accuracy: 0.9251\n",
            "Epoch 33/50\n",
            "750/750 [==============================] - 24s 33ms/step - loss: 0.0752 - accuracy: 0.9734 - val_loss: 0.2643 - val_accuracy: 0.9275\n",
            "Epoch 34/50\n",
            "750/750 [==============================] - 23s 30ms/step - loss: 0.0717 - accuracy: 0.9756 - val_loss: 0.2567 - val_accuracy: 0.9266\n",
            "Epoch 35/50\n",
            "750/750 [==============================] - 23s 30ms/step - loss: 0.0695 - accuracy: 0.9766 - val_loss: 0.2550 - val_accuracy: 0.9257\n",
            "Epoch 36/50\n",
            "750/750 [==============================] - 25s 33ms/step - loss: 0.0640 - accuracy: 0.9774 - val_loss: 0.3122 - val_accuracy: 0.9178\n",
            "Epoch 37/50\n",
            "750/750 [==============================] - 24s 33ms/step - loss: 0.0622 - accuracy: 0.9784 - val_loss: 0.2722 - val_accuracy: 0.9273\n",
            "Epoch 38/50\n",
            "750/750 [==============================] - 23s 30ms/step - loss: 0.0588 - accuracy: 0.9787 - val_loss: 0.3038 - val_accuracy: 0.9248\n",
            "Epoch 39/50\n",
            "750/750 [==============================] - 23s 30ms/step - loss: 0.0554 - accuracy: 0.9804 - val_loss: 0.3007 - val_accuracy: 0.9223\n",
            "Epoch 40/50\n",
            "750/750 [==============================] - 24s 32ms/step - loss: 0.0511 - accuracy: 0.9826 - val_loss: 0.3170 - val_accuracy: 0.9213\n",
            "Epoch 41/50\n",
            "750/750 [==============================] - 24s 33ms/step - loss: 0.0497 - accuracy: 0.9823 - val_loss: 0.3118 - val_accuracy: 0.9271\n",
            "Epoch 42/50\n",
            "750/750 [==============================] - 24s 33ms/step - loss: 0.0466 - accuracy: 0.9838 - val_loss: 0.3451 - val_accuracy: 0.9205\n",
            "Epoch 43/50\n",
            "750/750 [==============================] - 25s 33ms/step - loss: 0.0455 - accuracy: 0.9842 - val_loss: 0.3306 - val_accuracy: 0.9247\n",
            "Epoch 44/50\n",
            "750/750 [==============================] - 23s 30ms/step - loss: 0.0431 - accuracy: 0.9850 - val_loss: 0.3428 - val_accuracy: 0.9239\n",
            "Epoch 45/50\n",
            "750/750 [==============================] - 24s 32ms/step - loss: 0.0400 - accuracy: 0.9858 - val_loss: 0.3439 - val_accuracy: 0.9260\n",
            "Epoch 46/50\n",
            "750/750 [==============================] - 24s 32ms/step - loss: 0.0387 - accuracy: 0.9869 - val_loss: 0.3394 - val_accuracy: 0.9245\n",
            "Epoch 47/50\n",
            "750/750 [==============================] - 24s 32ms/step - loss: 0.0364 - accuracy: 0.9876 - val_loss: 0.3382 - val_accuracy: 0.9254\n",
            "Epoch 48/50\n",
            "750/750 [==============================] - 24s 33ms/step - loss: 0.0326 - accuracy: 0.9883 - val_loss: 0.4084 - val_accuracy: 0.9184\n",
            "Epoch 49/50\n",
            "750/750 [==============================] - 24s 33ms/step - loss: 0.0345 - accuracy: 0.9881 - val_loss: 0.3514 - val_accuracy: 0.9262\n",
            "Epoch 50/50\n",
            "750/750 [==============================] - 22s 30ms/step - loss: 0.0309 - accuracy: 0.9894 - val_loss: 0.4405 - val_accuracy: 0.9188\n"
          ]
        }
      ]
    },
    {
      "cell_type": "code",
      "source": [
        "test_loss, test_accuracy = model.evaluate(x_test_resized, y_test)\n",
        "print(\"Test Accuracy:\", test_accuracy)"
      ],
      "metadata": {
        "colab": {
          "base_uri": "https://localhost:8080/"
        },
        "id": "0d5pNSKAHVm9",
        "outputId": "12e4efd7-65ec-4ffa-ffdd-ba34396f25ba"
      },
      "execution_count": 5,
      "outputs": [
        {
          "output_type": "stream",
          "name": "stdout",
          "text": [
            "313/313 [==============================] - 4s 12ms/step - loss: 0.4822 - accuracy: 0.9116\n",
            "Test Accuracy: 0.9115999937057495\n"
          ]
        }
      ]
    },
    {
      "cell_type": "markdown",
      "source": [
        "Донавчена система дуже довго навчається, тому я не мала змоги поставити її таку саму кількість епох для навчання як і згортковій з першої частини домашнього завдання, але очевидно, що системи є більш точними ніж багатошарова з попереднього завдання."
      ],
      "metadata": {
        "id": "na1j5Bb7Ij_j"
      }
    }
  ]
}